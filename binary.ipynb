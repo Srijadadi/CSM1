{
 "cells": [
  {
   "cell_type": "markdown",
   "id": "819b32d2",
   "metadata": {
    "papermill": {
     "duration": 0.007659,
     "end_time": "2023-08-28T13:13:07.097248",
     "exception": false,
     "start_time": "2023-08-28T13:13:07.089589",
     "status": "completed"
    },
    "tags": []
   },
   "source": []
  },
  {
   "cell_type": "markdown",
   "id": "52d2e4ff",
   "metadata": {
    "papermill": {
     "duration": 0.007051,
     "end_time": "2023-08-28T13:13:07.111655",
     "exception": false,
     "start_time": "2023-08-28T13:13:07.104604",
     "status": "completed"
    },
    "tags": []
   },
   "source": []
  },
  {
   "cell_type": "markdown",
   "id": "3dab3cdd",
   "metadata": {
    "papermill": {
     "duration": 0.006831,
     "end_time": "2023-08-28T13:13:07.125767",
     "exception": false,
     "start_time": "2023-08-28T13:13:07.118936",
     "status": "completed"
    },
    "tags": []
   },
   "source": [
    "Title of Project: Binary Classification Project\n",
    "\n"
   ]
  },
  {
   "cell_type": "markdown",
   "id": "1296b8b7",
   "metadata": {
    "papermill": {
     "duration": 0.007252,
     "end_time": "2023-08-28T13:13:07.140300",
     "exception": false,
     "start_time": "2023-08-28T13:13:07.133048",
     "status": "completed"
    },
    "tags": []
   },
   "source": []
  },
  {
   "cell_type": "markdown",
   "id": "a197bb4a",
   "metadata": {
    "papermill": {
     "duration": 0.006972,
     "end_time": "2023-08-28T13:13:07.154475",
     "exception": false,
     "start_time": "2023-08-28T13:13:07.147503",
     "status": "completed"
    },
    "tags": []
   },
   "source": []
  },
  {
   "cell_type": "markdown",
   "id": "cdcdefb2",
   "metadata": {
    "papermill": {
     "duration": 0.00683,
     "end_time": "2023-08-28T13:13:07.168622",
     "exception": false,
     "start_time": "2023-08-28T13:13:07.161792",
     "status": "completed"
    },
    "tags": []
   },
   "source": [
    "\n",
    "Objective: Build a binary classification model to predict the outcome of a certain event.\n"
   ]
  },
  {
   "cell_type": "markdown",
   "id": "ddfb5a9e",
   "metadata": {
    "papermill": {
     "duration": 0.006879,
     "end_time": "2023-08-28T13:13:07.182844",
     "exception": false,
     "start_time": "2023-08-28T13:13:07.175965",
     "status": "completed"
    },
    "tags": []
   },
   "source": []
  },
  {
   "cell_type": "markdown",
   "id": "47656d73",
   "metadata": {
    "papermill": {
     "duration": 0.008155,
     "end_time": "2023-08-28T13:13:07.198276",
     "exception": false,
     "start_time": "2023-08-28T13:13:07.190121",
     "status": "completed"
    },
    "tags": []
   },
   "source": [
    "\n",
    "Data Source: Predefined input features and binary labels."
   ]
  },
  {
   "cell_type": "markdown",
   "id": "c36291da",
   "metadata": {
    "papermill": {
     "duration": 0.00688,
     "end_time": "2023-08-28T13:13:07.212350",
     "exception": false,
     "start_time": "2023-08-28T13:13:07.205470",
     "status": "completed"
    },
    "tags": []
   },
   "source": [
    "import Libraries:"
   ]
  },
  {
   "cell_type": "code",
   "execution_count": 1,
   "id": "e75ff9f9",
   "metadata": {
    "execution": {
     "iopub.execute_input": "2023-08-28T13:13:07.229747Z",
     "iopub.status.busy": "2023-08-28T13:13:07.229007Z",
     "iopub.status.idle": "2023-08-28T13:13:07.240949Z",
     "shell.execute_reply": "2023-08-28T13:13:07.239843Z"
    },
    "papermill": {
     "duration": 0.024153,
     "end_time": "2023-08-28T13:13:07.243803",
     "exception": false,
     "start_time": "2023-08-28T13:13:07.219650",
     "status": "completed"
    },
    "tags": []
   },
   "outputs": [],
   "source": [
    "import numpy as np"
   ]
  },
  {
   "cell_type": "markdown",
   "id": "1e5c10ae",
   "metadata": {
    "papermill": {
     "duration": 0.007127,
     "end_time": "2023-08-28T13:13:07.258246",
     "exception": false,
     "start_time": "2023-08-28T13:13:07.251119",
     "status": "completed"
    },
    "tags": []
   },
   "source": []
  },
  {
   "cell_type": "code",
   "execution_count": 2,
   "id": "78579f31",
   "metadata": {
    "execution": {
     "iopub.execute_input": "2023-08-28T13:13:07.275600Z",
     "iopub.status.busy": "2023-08-28T13:13:07.274805Z",
     "iopub.status.idle": "2023-08-28T13:13:08.476833Z",
     "shell.execute_reply": "2023-08-28T13:13:08.475160Z"
    },
    "papermill": {
     "duration": 1.214254,
     "end_time": "2023-08-28T13:13:08.479880",
     "exception": false,
     "start_time": "2023-08-28T13:13:07.265626",
     "status": "completed"
    },
    "tags": []
   },
   "outputs": [
    {
     "name": "stderr",
     "output_type": "stream",
     "text": [
      "/opt/conda/lib/python3.10/site-packages/scipy/__init__.py:146: UserWarning: A NumPy version >=1.16.5 and <1.23.0 is required for this version of SciPy (detected version 1.23.5\n",
      "  warnings.warn(f\"A NumPy version >={np_minversion} and <{np_maxversion}\"\n"
     ]
    }
   ],
   "source": [
    "from sklearn.model_selection import train_test_split\n"
   ]
  },
  {
   "cell_type": "code",
   "execution_count": 3,
   "id": "322f7e3d",
   "metadata": {
    "execution": {
     "iopub.execute_input": "2023-08-28T13:13:08.497517Z",
     "iopub.status.busy": "2023-08-28T13:13:08.496381Z",
     "iopub.status.idle": "2023-08-28T13:13:08.605406Z",
     "shell.execute_reply": "2023-08-28T13:13:08.604294Z"
    },
    "papermill": {
     "duration": 0.120992,
     "end_time": "2023-08-28T13:13:08.608297",
     "exception": false,
     "start_time": "2023-08-28T13:13:08.487305",
     "status": "completed"
    },
    "tags": []
   },
   "outputs": [],
   "source": [
    "\n",
    "from sklearn.linear_model import LogisticRegression\n"
   ]
  },
  {
   "cell_type": "code",
   "execution_count": 4,
   "id": "c89e467f",
   "metadata": {
    "execution": {
     "iopub.execute_input": "2023-08-28T13:13:08.625114Z",
     "iopub.status.busy": "2023-08-28T13:13:08.624702Z",
     "iopub.status.idle": "2023-08-28T13:13:08.630695Z",
     "shell.execute_reply": "2023-08-28T13:13:08.628878Z"
    },
    "papermill": {
     "duration": 0.017674,
     "end_time": "2023-08-28T13:13:08.633584",
     "exception": false,
     "start_time": "2023-08-28T13:13:08.615910",
     "status": "completed"
    },
    "tags": []
   },
   "outputs": [],
   "source": [
    "\n",
    "from sklearn.metrics import accuracy_score"
   ]
  },
  {
   "cell_type": "markdown",
   "id": "2a0268eb",
   "metadata": {
    "papermill": {
     "duration": 0.007171,
     "end_time": "2023-08-28T13:13:08.648264",
     "exception": false,
     "start_time": "2023-08-28T13:13:08.641093",
     "status": "completed"
    },
    "tags": []
   },
   "source": [
    "import data:"
   ]
  },
  {
   "cell_type": "code",
   "execution_count": 5,
   "id": "2a0083b2",
   "metadata": {
    "execution": {
     "iopub.execute_input": "2023-08-28T13:13:08.665091Z",
     "iopub.status.busy": "2023-08-28T13:13:08.664634Z",
     "iopub.status.idle": "2023-08-28T13:13:08.671196Z",
     "shell.execute_reply": "2023-08-28T13:13:08.669944Z"
    },
    "papermill": {
     "duration": 0.017677,
     "end_time": "2023-08-28T13:13:08.673606",
     "exception": false,
     "start_time": "2023-08-28T13:13:08.655929",
     "status": "completed"
    },
    "tags": []
   },
   "outputs": [],
   "source": [
    "X = np.array([[2.0, 3.0], [1.0, 2.0], [3.0, 4.0], [5.0, 6.0], [4.0, 5.0]])\n",
    "y = np.array([0, 0, 1, 1, 1])"
   ]
  },
  {
   "cell_type": "markdown",
   "id": "8f3133cb",
   "metadata": {
    "papermill": {
     "duration": 0.007083,
     "end_time": "2023-08-28T13:13:08.688216",
     "exception": false,
     "start_time": "2023-08-28T13:13:08.681133",
     "status": "completed"
    },
    "tags": []
   },
   "source": [
    "Train Test Split:"
   ]
  },
  {
   "cell_type": "code",
   "execution_count": 6,
   "id": "c882ae46",
   "metadata": {
    "execution": {
     "iopub.execute_input": "2023-08-28T13:13:08.704983Z",
     "iopub.status.busy": "2023-08-28T13:13:08.704574Z",
     "iopub.status.idle": "2023-08-28T13:13:08.713484Z",
     "shell.execute_reply": "2023-08-28T13:13:08.712325Z"
    },
    "papermill": {
     "duration": 0.020318,
     "end_time": "2023-08-28T13:13:08.715988",
     "exception": false,
     "start_time": "2023-08-28T13:13:08.695670",
     "status": "completed"
    },
    "tags": []
   },
   "outputs": [],
   "source": [
    "X_train, X_test, y_train, y_test = train_test_split(X, y, test_size=0.2, random_state=42)"
   ]
  },
  {
   "cell_type": "markdown",
   "id": "18e85c8b",
   "metadata": {
    "papermill": {
     "duration": 0.007049,
     "end_time": "2023-08-28T13:13:08.730670",
     "exception": false,
     "start_time": "2023-08-28T13:13:08.723621",
     "status": "completed"
    },
    "tags": []
   },
   "source": [
    "Modeling:"
   ]
  },
  {
   "cell_type": "code",
   "execution_count": 7,
   "id": "860e8c26",
   "metadata": {
    "execution": {
     "iopub.execute_input": "2023-08-28T13:13:08.747219Z",
     "iopub.status.busy": "2023-08-28T13:13:08.746856Z",
     "iopub.status.idle": "2023-08-28T13:13:08.751978Z",
     "shell.execute_reply": "2023-08-28T13:13:08.750843Z"
    },
    "papermill": {
     "duration": 0.016321,
     "end_time": "2023-08-28T13:13:08.754299",
     "exception": false,
     "start_time": "2023-08-28T13:13:08.737978",
     "status": "completed"
    },
    "tags": []
   },
   "outputs": [],
   "source": [
    "model = LogisticRegression()\n"
   ]
  },
  {
   "cell_type": "code",
   "execution_count": 8,
   "id": "a717d03a",
   "metadata": {
    "execution": {
     "iopub.execute_input": "2023-08-28T13:13:08.771586Z",
     "iopub.status.busy": "2023-08-28T13:13:08.771174Z",
     "iopub.status.idle": "2023-08-28T13:13:08.800112Z",
     "shell.execute_reply": "2023-08-28T13:13:08.798837Z"
    },
    "papermill": {
     "duration": 0.040668,
     "end_time": "2023-08-28T13:13:08.802591",
     "exception": false,
     "start_time": "2023-08-28T13:13:08.761923",
     "status": "completed"
    },
    "tags": []
   },
   "outputs": [
    {
     "data": {
      "text/html": [
       "<style>#sk-container-id-1 {color: black;background-color: white;}#sk-container-id-1 pre{padding: 0;}#sk-container-id-1 div.sk-toggleable {background-color: white;}#sk-container-id-1 label.sk-toggleable__label {cursor: pointer;display: block;width: 100%;margin-bottom: 0;padding: 0.3em;box-sizing: border-box;text-align: center;}#sk-container-id-1 label.sk-toggleable__label-arrow:before {content: \"▸\";float: left;margin-right: 0.25em;color: #696969;}#sk-container-id-1 label.sk-toggleable__label-arrow:hover:before {color: black;}#sk-container-id-1 div.sk-estimator:hover label.sk-toggleable__label-arrow:before {color: black;}#sk-container-id-1 div.sk-toggleable__content {max-height: 0;max-width: 0;overflow: hidden;text-align: left;background-color: #f0f8ff;}#sk-container-id-1 div.sk-toggleable__content pre {margin: 0.2em;color: black;border-radius: 0.25em;background-color: #f0f8ff;}#sk-container-id-1 input.sk-toggleable__control:checked~div.sk-toggleable__content {max-height: 200px;max-width: 100%;overflow: auto;}#sk-container-id-1 input.sk-toggleable__control:checked~label.sk-toggleable__label-arrow:before {content: \"▾\";}#sk-container-id-1 div.sk-estimator input.sk-toggleable__control:checked~label.sk-toggleable__label {background-color: #d4ebff;}#sk-container-id-1 div.sk-label input.sk-toggleable__control:checked~label.sk-toggleable__label {background-color: #d4ebff;}#sk-container-id-1 input.sk-hidden--visually {border: 0;clip: rect(1px 1px 1px 1px);clip: rect(1px, 1px, 1px, 1px);height: 1px;margin: -1px;overflow: hidden;padding: 0;position: absolute;width: 1px;}#sk-container-id-1 div.sk-estimator {font-family: monospace;background-color: #f0f8ff;border: 1px dotted black;border-radius: 0.25em;box-sizing: border-box;margin-bottom: 0.5em;}#sk-container-id-1 div.sk-estimator:hover {background-color: #d4ebff;}#sk-container-id-1 div.sk-parallel-item::after {content: \"\";width: 100%;border-bottom: 1px solid gray;flex-grow: 1;}#sk-container-id-1 div.sk-label:hover label.sk-toggleable__label {background-color: #d4ebff;}#sk-container-id-1 div.sk-serial::before {content: \"\";position: absolute;border-left: 1px solid gray;box-sizing: border-box;top: 0;bottom: 0;left: 50%;z-index: 0;}#sk-container-id-1 div.sk-serial {display: flex;flex-direction: column;align-items: center;background-color: white;padding-right: 0.2em;padding-left: 0.2em;position: relative;}#sk-container-id-1 div.sk-item {position: relative;z-index: 1;}#sk-container-id-1 div.sk-parallel {display: flex;align-items: stretch;justify-content: center;background-color: white;position: relative;}#sk-container-id-1 div.sk-item::before, #sk-container-id-1 div.sk-parallel-item::before {content: \"\";position: absolute;border-left: 1px solid gray;box-sizing: border-box;top: 0;bottom: 0;left: 50%;z-index: -1;}#sk-container-id-1 div.sk-parallel-item {display: flex;flex-direction: column;z-index: 1;position: relative;background-color: white;}#sk-container-id-1 div.sk-parallel-item:first-child::after {align-self: flex-end;width: 50%;}#sk-container-id-1 div.sk-parallel-item:last-child::after {align-self: flex-start;width: 50%;}#sk-container-id-1 div.sk-parallel-item:only-child::after {width: 0;}#sk-container-id-1 div.sk-dashed-wrapped {border: 1px dashed gray;margin: 0 0.4em 0.5em 0.4em;box-sizing: border-box;padding-bottom: 0.4em;background-color: white;}#sk-container-id-1 div.sk-label label {font-family: monospace;font-weight: bold;display: inline-block;line-height: 1.2em;}#sk-container-id-1 div.sk-label-container {text-align: center;}#sk-container-id-1 div.sk-container {/* jupyter's `normalize.less` sets `[hidden] { display: none; }` but bootstrap.min.css set `[hidden] { display: none !important; }` so we also need the `!important` here to be able to override the default hidden behavior on the sphinx rendered scikit-learn.org. See: https://github.com/scikit-learn/scikit-learn/issues/21755 */display: inline-block !important;position: relative;}#sk-container-id-1 div.sk-text-repr-fallback {display: none;}</style><div id=\"sk-container-id-1\" class=\"sk-top-container\"><div class=\"sk-text-repr-fallback\"><pre>LogisticRegression()</pre><b>In a Jupyter environment, please rerun this cell to show the HTML representation or trust the notebook. <br />On GitHub, the HTML representation is unable to render, please try loading this page with nbviewer.org.</b></div><div class=\"sk-container\" hidden><div class=\"sk-item\"><div class=\"sk-estimator sk-toggleable\"><input class=\"sk-toggleable__control sk-hidden--visually\" id=\"sk-estimator-id-1\" type=\"checkbox\" checked><label for=\"sk-estimator-id-1\" class=\"sk-toggleable__label sk-toggleable__label-arrow\">LogisticRegression</label><div class=\"sk-toggleable__content\"><pre>LogisticRegression()</pre></div></div></div></div></div>"
      ],
      "text/plain": [
       "LogisticRegression()"
      ]
     },
     "execution_count": 8,
     "metadata": {},
     "output_type": "execute_result"
    }
   ],
   "source": [
    "model.fit(X_train, y_train)"
   ]
  },
  {
   "cell_type": "markdown",
   "id": "0c064b96",
   "metadata": {
    "papermill": {
     "duration": 0.007434,
     "end_time": "2023-08-28T13:13:08.818989",
     "exception": false,
     "start_time": "2023-08-28T13:13:08.811555",
     "status": "completed"
    },
    "tags": []
   },
   "source": [
    "Model Evaluation:"
   ]
  },
  {
   "cell_type": "code",
   "execution_count": 9,
   "id": "3d334a58",
   "metadata": {
    "execution": {
     "iopub.execute_input": "2023-08-28T13:13:08.837378Z",
     "iopub.status.busy": "2023-08-28T13:13:08.836995Z",
     "iopub.status.idle": "2023-08-28T13:13:08.843388Z",
     "shell.execute_reply": "2023-08-28T13:13:08.841768Z"
    },
    "papermill": {
     "duration": 0.019353,
     "end_time": "2023-08-28T13:13:08.846057",
     "exception": false,
     "start_time": "2023-08-28T13:13:08.826704",
     "status": "completed"
    },
    "tags": []
   },
   "outputs": [],
   "source": [
    "y_pred = model.predict(X_test)"
   ]
  },
  {
   "cell_type": "markdown",
   "id": "fc2e9658",
   "metadata": {
    "papermill": {
     "duration": 0.007375,
     "end_time": "2023-08-28T13:13:08.861325",
     "exception": false,
     "start_time": "2023-08-28T13:13:08.853950",
     "status": "completed"
    },
    "tags": []
   },
   "source": [
    "Prediction:"
   ]
  },
  {
   "cell_type": "code",
   "execution_count": 10,
   "id": "ea3921c5",
   "metadata": {
    "execution": {
     "iopub.execute_input": "2023-08-28T13:13:08.878762Z",
     "iopub.status.busy": "2023-08-28T13:13:08.878343Z",
     "iopub.status.idle": "2023-08-28T13:13:08.885560Z",
     "shell.execute_reply": "2023-08-28T13:13:08.884230Z"
    },
    "papermill": {
     "duration": 0.019342,
     "end_time": "2023-08-28T13:13:08.888178",
     "exception": false,
     "start_time": "2023-08-28T13:13:08.868836",
     "status": "completed"
    },
    "tags": []
   },
   "outputs": [
    {
     "name": "stdout",
     "output_type": "stream",
     "text": [
      "Accuracy: 1.00\n"
     ]
    }
   ],
   "source": [
    "accuracy = accuracy_score(y_test, y_pred)\n",
    "print(f\"Accuracy: {accuracy:.2f}\")"
   ]
  },
  {
   "cell_type": "markdown",
   "id": "cd44301e",
   "metadata": {
    "papermill": {
     "duration": 0.007346,
     "end_time": "2023-08-28T13:13:08.903381",
     "exception": false,
     "start_time": "2023-08-28T13:13:08.896035",
     "status": "completed"
    },
    "tags": []
   },
   "source": []
  }
 ],
 "metadata": {
  "kernelspec": {
   "display_name": "Python 3",
   "language": "python",
   "name": "python3"
  },
  "language_info": {
   "codemirror_mode": {
    "name": "ipython",
    "version": 3
   },
   "file_extension": ".py",
   "mimetype": "text/x-python",
   "name": "python",
   "nbconvert_exporter": "python",
   "pygments_lexer": "ipython3",
   "version": "3.10.12"
  },
  "papermill": {
   "default_parameters": {},
   "duration": 14.115779,
   "end_time": "2023-08-28T13:13:09.934092",
   "environment_variables": {},
   "exception": null,
   "input_path": "__notebook__.ipynb",
   "output_path": "__notebook__.ipynb",
   "parameters": {},
   "start_time": "2023-08-28T13:12:55.818313",
   "version": "2.4.0"
  }
 },
 "nbformat": 4,
 "nbformat_minor": 5
}
