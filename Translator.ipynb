{
 "cells": [
  {
   "cell_type": "code",
   "execution_count": null,
   "id": "8c92e620",
   "metadata": {},
   "outputs": [],
   "source": []
  },
  {
   "cell_type": "code",
   "execution_count": 1,
   "id": "221d4741",
   "metadata": {},
   "outputs": [
    {
     "name": "stdout",
     "output_type": "stream",
     "text": [
      "Requirement already satisfied: googletrans in c:\\users\\dadis\\anaconda3\\lib\\site-packages (3.0.0)\n",
      "Requirement already satisfied: httpx==0.13.3 in c:\\users\\dadis\\anaconda3\\lib\\site-packages (from googletrans) (0.13.3)\n",
      "Requirement already satisfied: chardet==3.* in c:\\users\\dadis\\anaconda3\\lib\\site-packages (from httpx==0.13.3->googletrans) (3.0.4)\n",
      "Requirement already satisfied: rfc3986<2,>=1.3 in c:\\users\\dadis\\anaconda3\\lib\\site-packages (from httpx==0.13.3->googletrans) (1.5.0)\n",
      "Requirement already satisfied: hstspreload in c:\\users\\dadis\\anaconda3\\lib\\site-packages (from httpx==0.13.3->googletrans) (2023.1.1)\n",
      "Requirement already satisfied: httpcore==0.9.* in c:\\users\\dadis\\anaconda3\\lib\\site-packages (from httpx==0.13.3->googletrans) (0.9.1)\n",
      "Requirement already satisfied: idna==2.* in c:\\users\\dadis\\anaconda3\\lib\\site-packages (from httpx==0.13.3->googletrans) (2.10)\n",
      "Requirement already satisfied: certifi in c:\\users\\dadis\\anaconda3\\lib\\site-packages (from httpx==0.13.3->googletrans) (2021.10.8)\n",
      "Requirement already satisfied: sniffio in c:\\users\\dadis\\anaconda3\\lib\\site-packages (from httpx==0.13.3->googletrans) (1.2.0)\n",
      "Requirement already satisfied: h11<0.10,>=0.8 in c:\\users\\dadis\\anaconda3\\lib\\site-packages (from httpcore==0.9.*->httpx==0.13.3->googletrans) (0.9.0)\n",
      "Requirement already satisfied: h2==3.* in c:\\users\\dadis\\anaconda3\\lib\\site-packages (from httpcore==0.9.*->httpx==0.13.3->googletrans) (3.2.0)\n",
      "Requirement already satisfied: hpack<4,>=3.0 in c:\\users\\dadis\\anaconda3\\lib\\site-packages (from h2==3.*->httpcore==0.9.*->httpx==0.13.3->googletrans) (3.0.0)\n",
      "Requirement already satisfied: hyperframe<6,>=5.2.0 in c:\\users\\dadis\\anaconda3\\lib\\site-packages (from h2==3.*->httpcore==0.9.*->httpx==0.13.3->googletrans) (5.2.0)\n"
     ]
    }
   ],
   "source": [
    "!pip install googletrans"
   ]
  },
  {
   "cell_type": "code",
   "execution_count": 3,
   "id": "79243262",
   "metadata": {
    "scrolled": true
   },
   "outputs": [],
   "source": [
    "import tkinter as tk\n",
    "from googletrans import Translator\n",
    "\n",
    "class LanguageTranslator:\n",
    "    def __init__(self, root):\n",
    "        self.root = root\n",
    "        self.root.title(\"Language Translator\")\n",
    "        self.root.geometry(\"400x200\")\n",
    "\n",
    "        self.label1 = tk.Label(root, text=\"Enter text:\")\n",
    "        self.label1.pack()\n",
    "\n",
    "        self.text_box = tk.Text(root, height=5, width=40)\n",
    "        self.text_box.pack()\n",
    "\n",
    "        self.translate_button = tk.Button(root, text=\"Translate\", command=self.translate_text)\n",
    "        self.translate_button.pack()\n",
    "\n",
    "        self.label2 = tk.Label(root, text=\"Translated text:\")\n",
    "        self.label2.pack()\n",
    "\n",
    "        self.translated_text = tk.Text(root, height=5, width=40, state=tk.DISABLED)\n",
    "        self.translated_text.pack()\n",
    "\n",
    "        self.translator = Translator()\n",
    "\n",
    "    def translate_text(self):\n",
    "        input_text = self.text_box.get(\"1.0\", tk.END).strip()\n",
    "        if input_text:\n",
    "            try:\n",
    "                translated_result = self.translator.translate(input_text, dest=\"en\")  # Translate to English\n",
    "                self.translated_text.config(state=tk.NORMAL)\n",
    "                self.translated_text.delete(\"1.0\", tk.END)\n",
    "                self.translated_text.insert(tk.END, translated_result.text)\n",
    "                self.translated_text.config(state=tk.DISABLED)\n",
    "            except Exception as e:\n",
    "                self.translated_text.config(state=tk.NORMAL)\n",
    "                self.translated_text.delete(\"1.0\", tk.END)\n",
    "                self.translated_text.insert(tk.END, \"Translation Error: \" + str(e))\n",
    "                self.translated_text.config(state=tk.DISABLED)\n",
    "        else:\n",
    "            self.translated_text.config(state=tk.NORMAL)\n",
    "            self.translated_text.delete(\"1.0\", tk.END)\n",
    "            self.translated_text.insert(tk.END, \"Please enter some text to translate.\")\n",
    "            self.translated_text.config(state=tk.DISABLED)\n",
    "\n",
    "if __name__ == \"__main__\":\n",
    "    root = tk.Tk()\n",
    "    app = LanguageTranslator(root)\n",
    "    root.mainloop()\n",
    "\n",
    "\n",
    "\n",
    "\n"
   ]
  },
  {
   "cell_type": "code",
   "execution_count": null,
   "id": "5bc12cf8",
   "metadata": {},
   "outputs": [],
   "source": []
  }
 ],
 "metadata": {
  "kernelspec": {
   "display_name": "Python 3 (ipykernel)",
   "language": "python",
   "name": "python3"
  },
  "language_info": {
   "codemirror_mode": {
    "name": "ipython",
    "version": 3
   },
   "file_extension": ".py",
   "mimetype": "text/x-python",
   "name": "python",
   "nbconvert_exporter": "python",
   "pygments_lexer": "ipython3",
   "version": "3.9.12"
  }
 },
 "nbformat": 4,
 "nbformat_minor": 5
}
